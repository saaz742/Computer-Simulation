{
  "nbformat": 4,
  "nbformat_minor": 0,
  "metadata": {
    "colab": {
      "provenance": []
    },
    "kernelspec": {
      "name": "python3",
      "display_name": "Python 3"
    },
    "language_info": {
      "name": "python"
    }
  },
  "cells": [
    {
      "cell_type": "markdown",
      "source": [
        "computer simulation\n",
        "\n",
        "sara azarnoush\n",
        "\n",
        "98170668"
      ],
      "metadata": {
        "id": "UcC6qMGsQSpc"
      }
    },
    {
      "cell_type": "code",
      "source": [
        "import random"
      ],
      "metadata": {
        "id": "bAP8j8HgSGA9"
      },
      "execution_count": 1,
      "outputs": []
    },
    {
      "cell_type": "code",
      "source": [
        "class patient:\n",
        "  def __init__(self,time,status):\n",
        "    self.time = time\n",
        "    self.status = status\n",
        "    self.wait = 0\n",
        "    self.begin = -1\n",
        "    self.end = -1\n",
        "    self.idle = 0\n",
        "\n",
        "class nurse:\n",
        "    def __init__(self,time,patient):\n",
        "      self.time = time\n",
        "      self.patient = patient"
      ],
      "metadata": {
        "id": "42-56qX1UnQq"
      },
      "execution_count": 7,
      "outputs": []
    },
    {
      "cell_type": "code",
      "source": [
        "patients = []\n",
        "nusrses = []"
      ],
      "metadata": {
        "id": "C2ogbJ5RVw4E"
      },
      "execution_count": null,
      "outputs": []
    },
    {
      "cell_type": "code",
      "source": [
        "time = 0\n",
        "while (time < 12*60):\n",
        "  rand_ti = random.choices([1,2,3,4], [40,30,19,11])[0]\n",
        "  rand_status = random.choices([\"lab\",\"clinic\", \"hospital\"], [3,4,3])[0]\n",
        "  time += rand_ti\n",
        "  \n",
        "\n"
      ],
      "metadata": {
        "id": "zVUiPlMsR9oc"
      },
      "execution_count": 8,
      "outputs": []
    },
    {
      "cell_type": "code",
      "source": [
        "t_wait = 0\n",
        "for patient in patients:\n",
        "  t_wait += patient.wait"
      ],
      "metadata": {
        "id": "abMPm-ACWo0R"
      },
      "execution_count": null,
      "outputs": []
    },
    {
      "cell_type": "code",
      "source": [
        "print(f\"\"\"\n",
        "- Avg waiting time: {t_wait/len(patient)}\n",
        "- Avg waiting time by status:\n",
        "    lab: \n",
        "    clinic:\n",
        "    hospital: \n",
        "- Avg queue length: \n",
        "- cdf waiting time: \n",
        "- cdf waiting time by status:\n",
        "    lab: \n",
        "    clinic:\n",
        "    hospital: \n",
        "- inactivity time:\n",
        "\"\"\")\n"
      ],
      "metadata": {
        "id": "gIjJEBZUSvr0"
      },
      "execution_count": null,
      "outputs": []
    }
  ]
}