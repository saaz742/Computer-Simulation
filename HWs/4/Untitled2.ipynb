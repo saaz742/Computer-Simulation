{
  "cells": [
    {
      "cell_type": "markdown",
      "metadata": {
        "id": "C5sOPg1IfAxs"
      },
      "source": [
        "Sara Azarnoush \n",
        "\n",
        "98170668\n",
        "\n",
        "Computer Simulation 4\n",
        "\n",
        "Queston 3\n",
        "\n",
        "winter 2022"
      ]
    },
    {
      "cell_type": "code",
      "execution_count": 187,
      "metadata": {
        "id": "S-hDN7urVXG2"
      },
      "outputs": [],
      "source": [
        "import random\n",
        "import math"
      ]
    },
    {
      "cell_type": "markdown",
      "metadata": {
        "id": "gNXDXCQfVXG6"
      },
      "source": [
        "### part 1 Combined Linear Congruential\n",
        "\n",
        "$$m_1 = 100, c_1 = 43, a_1 = 23, X_1 = 13$$\n",
        "$$m_2 = 99, c_2 = 47, a_2 = 27, X_2 = 17$$"
      ]
    },
    {
      "cell_type": "code",
      "source": [
        "num = 100\n",
        "numbers = [0.0] * num\n",
        "m1 = 100\n",
        "a1 = 23\n",
        "c1 = 43\n",
        "x1 = 13\n",
        "m2 = 99\n",
        "a2 = 27\n",
        "c2 = 47\n",
        "x2 = 17"
      ],
      "metadata": {
        "id": "5ZeLEM3rWvNA"
      },
      "execution_count": 177,
      "outputs": []
    },
    {
      "cell_type": "code",
      "execution_count": 178,
      "metadata": {
        "colab": {
          "base_uri": "https://localhost:8080/"
        },
        "id": "E3hYAnhvVXHB",
        "outputId": "9f6e8585-1d4b-43ac-b127-0d1d62588ea2"
      },
      "outputs": [
        {
          "output_type": "stream",
          "name": "stdout",
          "text": [
            "[0.0, 0.31, 0.62, 0.21, 0.55, 0.99, 0.18, 0.63, 0.44, 0.84, 0.66, 0.59, 0.06, 0.33, 0.31, 0.47, 0.22, 0.55, 0.6, 0.52, 0.3, 0.31, 0.62, 0.21, 0.55, 0.99, 0.18, 0.63, 0.44, 0.84, 0.66, 0.59, 0.06, 0.33, 0.31, 0.47, 0.22, 0.55, 0.6, 0.52, 0.3, 0.31, 0.62, 0.21, 0.55, 0.99, 0.18, 0.63, 0.44, 0.84, 0.66, 0.59, 0.06, 0.33, 0.31, 0.47, 0.22, 0.55, 0.6, 0.52, 0.3, 0.31, 0.62, 0.21, 0.55, 0.99, 0.18, 0.63, 0.44, 0.84, 0.66, 0.59, 0.06, 0.33, 0.31, 0.47, 0.22, 0.55, 0.6, 0.52, 0.3, 0.31, 0.62, 0.21, 0.55, 0.99, 0.18, 0.63, 0.44, 0.84, 0.66, 0.59, 0.06, 0.33, 0.31, 0.47, 0.22, 0.55, 0.6, 0.52]\n"
          ]
        }
      ],
      "source": [
        "for i in range(1, num):\n",
        "    x1 = (a1 * x1 + c1) % m1\n",
        "    x2 = (a2 * x2 + c2) % m2\n",
        "    x = (x1 - x2) % m1\n",
        "\n",
        "    if x > 0:\n",
        "        numbers[i] = (x / m1)\n",
        "    elif x < 0:\n",
        "        numbers[i] = (x / m1) + 1\n",
        "    elif x == 0:\n",
        "        numbers[i] = (m1 - 1) / m1\n",
        "\n",
        "print(numbers)"
      ]
    },
    {
      "cell_type": "markdown",
      "metadata": {
        "id": "Iy5xEhmq5H0E"
      },
      "source": [
        "### part 2 Kolmogorov-Smirnov\n",
        "\n",
        "$$N = 20, \\alpha  = 0.05$$"
      ]
    },
    {
      "cell_type": "code",
      "source": [
        "n = 20\n",
        "a = 0.05\n",
        "k = 0\n",
        "da = 0.294"
      ],
      "metadata": {
        "id": "3VH7XQn5YTjA"
      },
      "execution_count": 179,
      "outputs": []
    },
    {
      "cell_type": "code",
      "execution_count": 180,
      "metadata": {
        "colab": {
          "base_uri": "https://localhost:8080/"
        },
        "id": "SWqtdPZHVXHM",
        "outputId": "b64341f7-2907-428a-bb05-75c1cfb0a22c"
      },
      "outputs": [
        {
          "output_type": "stream",
          "name": "stdout",
          "text": [
            "k: 0.18999999999999995\n",
            "Dependent\n"
          ]
        }
      ],
      "source": [
        "samp = random.sample(numbers, n)\n",
        "samp.sort()\n",
        "\n",
        "for i in range(n):\n",
        "    k = max(k, i/n - samp[i], samp[i] - (i-1)/n)\n",
        "\n",
        "print(\"k:\", k)\n",
        "if k <= da:\n",
        "    print(\"Dependent\")\n",
        "else:\n",
        "    print(\"Independent\")"
      ]
    },
    {
      "cell_type": "markdown",
      "metadata": {
        "id": "Of2Xm7wgVXHQ"
      },
      "source": [
        "### part 3 Chi-Square\n",
        "\n",
        "$$n = 20, \\alpha = 0.05$$\n"
      ]
    },
    {
      "cell_type": "code",
      "source": [
        "n = 20\n",
        "a = 0.05\n",
        "c = 0\n",
        "v = 30.1"
      ],
      "metadata": {
        "id": "bOM59JzeZvqI"
      },
      "execution_count": 181,
      "outputs": []
    },
    {
      "cell_type": "code",
      "execution_count": 182,
      "metadata": {
        "colab": {
          "base_uri": "https://localhost:8080/"
        },
        "id": "lLGhZENnVXHT",
        "outputId": "cf931b69-d141-4aa5-b34e-3cf47bf2fc5c"
      },
      "outputs": [
        {
          "output_type": "stream",
          "name": "stdout",
          "text": [
            "c: 30.1\n",
            "Independent\n"
          ]
        }
      ],
      "source": [
        "samp = random.sample(numbers, num)\n",
        "obs = {i: 0 for i in range(0, n)}\n",
        "\n",
        "for s in samp:\n",
        "    obs[int(s*n)] += 1\n",
        "\n",
        "for i in range(n):\n",
        "    c += (obs[i] - num/n)**2 / (num/n)\n",
        "\n",
        "print(\"c:\", v)\n",
        "if c <= a:\n",
        "    print(\"Dependent\")\n",
        "else:\n",
        "    print(\"Independent\")\n"
      ]
    },
    {
      "cell_type": "markdown",
      "metadata": {
        "id": "_6UXDnANVXHX"
      },
      "source": [
        "### part 4 Autocorrelation\n",
        "$$m = 7$$\n",
        "$$i = 3, \\alpha = 0.02$$\n",
        "$$i = 7, \\alpha = 0.02$$\n"
      ]
    },
    {
      "cell_type": "code",
      "source": [
        "m = 7\n",
        "a = 0.02\n",
        "z = 2.33"
      ],
      "metadata": {
        "id": "f8fVp_5GYW8q"
      },
      "execution_count": 183,
      "outputs": []
    },
    {
      "cell_type": "code",
      "source": [
        "def auto(i):\n",
        "    r = 0\n",
        "    M = (num - i) // m - 1\n",
        "    for j in range(M):\n",
        "        r += numbers[j*m + i] * numbers[j*m]\n",
        "    r = (r / M) - 0.25\n",
        "    sigma = math.sqrt(13*M + 7) / (12*(M+1))\n",
        "    ac = r / sigma\n",
        "    return ac"
      ],
      "metadata": {
        "id": "7IZqOJmBYb6I"
      },
      "execution_count": 184,
      "outputs": []
    },
    {
      "cell_type": "code",
      "source": [
        "def check(ac):\n",
        "\n",
        "  print(\"ac:\", ac)\n",
        "  if -z <= ac <= z:\n",
        "        print(\"Dependent\")\n",
        "  else:\n",
        "        print(\"Independent\")"
      ],
      "metadata": {
        "id": "LmJryAYkYuBa"
      },
      "execution_count": 185,
      "outputs": []
    },
    {
      "cell_type": "code",
      "source": [
        "check(auto(3))\n",
        "check(auto(7))"
      ],
      "metadata": {
        "colab": {
          "base_uri": "https://localhost:8080/"
        },
        "id": "4l4VSOzkXQQT",
        "outputId": "c0c85350-ccf9-4951-ff92-3ab24304dfd8"
      },
      "execution_count": 186,
      "outputs": [
        {
          "output_type": "stream",
          "name": "stdout",
          "text": [
            "ac: -0.511563065096135\n",
            "Dependent\n",
            "ac: -0.5275494108803885\n",
            "Dependent\n"
          ]
        }
      ]
    }
  ],
  "metadata": {
    "colab": {
      "provenance": []
    },
    "kernelspec": {
      "display_name": "Python 3.10.6 64-bit",
      "language": "python",
      "name": "python3"
    },
    "language_info": {
      "name": "python",
      "version": "3.10.6"
    },
    "vscode": {
      "interpreter": {
        "hash": "916dbcbb3f70747c44a77c7bcd40155683ae19c65e1c03b4aa3499c5328201f1"
      }
    }
  },
  "nbformat": 4,
  "nbformat_minor": 0
}