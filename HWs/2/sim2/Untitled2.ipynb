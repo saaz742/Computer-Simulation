{
  "nbformat": 4,
  "nbformat_minor": 0,
  "metadata": {
    "colab": {
      "provenance": []
    },
    "kernelspec": {
      "name": "python3",
      "display_name": "Python 3"
    },
    "language_info": {
      "name": "python"
    }
  },
  "cells": [
    {
      "cell_type": "markdown",
      "source": [
        "Sara Azarnoush \n",
        "\n",
        "98170668\n",
        "\n",
        "Computer Simulation 2\n",
        "\n",
        "Queston 3\n",
        "\n",
        "fall 2022"
      ],
      "metadata": {
        "id": "C5sOPg1IfAxs"
      }
    },
    {
      "cell_type": "code",
      "source": [
        "import random\n",
        "import numpy as np"
      ],
      "metadata": {
        "id": "f0E5BtxGljST"
      },
      "execution_count": 522,
      "outputs": []
    },
    {
      "cell_type": "code",
      "source": [
        "class Customer:\n",
        "\n",
        "  def __init__(self, number, last_arrival_time, arrival_time, service_time):\n",
        "    self.number = number\n",
        "    self.last_arrival_time = last_arrival_time\n",
        "    self.arrival_time = arrival_time\n",
        "    self.service_time = service_time\n",
        "    self.status = None #(p,q), q = 1 if server busy ow 0, p = queue len\n",
        "    self.begin = -1\n",
        "    self.end = -1\n",
        "\n",
        "class Server:\n",
        "    def __init__(self, number):\n",
        "      self.number = number\n",
        "      self.busy_time = 0\n",
        "      self.isbusy = False\n",
        "      self.customer = None"
      ],
      "metadata": {
        "id": "Cez976FinbTB"
      },
      "execution_count": 523,
      "outputs": []
    },
    {
      "cell_type": "code",
      "source": [
        "n_customers = 12\n",
        "n_servers = 2\n",
        "customers = []\n",
        "servers = []\n",
        "queue = []\n",
        "total_time = 0"
      ],
      "metadata": {
        "id": "fWGb-GxrloRi"
      },
      "execution_count": 524,
      "outputs": []
    },
    {
      "cell_type": "code",
      "source": [
        "#first customer\n",
        "service = round(np.random.normal(4, 9), 2)\n",
        "customers.append(Customer(1, 0, 0, max(service, 0.001)))\n",
        "\n",
        "#servers\n",
        "for i in range(n_servers):\n",
        "  servers.append(Server(i+1))"
      ],
      "metadata": {
        "id": "ZV-Rh_1foNYl"
      },
      "execution_count": 525,
      "outputs": []
    },
    {
      "cell_type": "code",
      "execution_count": 526,
      "metadata": {
        "id": "bVa5xfaFd5jz"
      },
      "outputs": [],
      "source": [
        "last_t = 0\n",
        "service = 0\n",
        "\n",
        "for i in range(n_customers-1):\n",
        "  last_t = random.choices([0,1,2,3], [39,33,19,9])[0]\n",
        "  service = round(np.random.normal(4, 9), 2)\n",
        "  customer = Customer(i+2, last_t, customers[-1].arrival_time + last_t, max(service, 0.001)) #service time cant be x <= 0 i used 0.001 instead\n",
        "  customers.append(customer)"
      ]
    },
    {
      "cell_type": "code",
      "source": [
        "i = 0\n",
        "clock = 0\n",
        "most_time = 0\n",
        "while True:\n",
        "    if i < len(customers) and customers[i].arrival_time <= clock:\n",
        "        queue.append(customers[i])\n",
        "        i += 1\n",
        "\n",
        "    for server in servers:\n",
        "        if server.customer is not None:\n",
        "           if int(server.customer.begin + server.customer.service_time) < clock:\n",
        "              server.customer = None\n",
        "              server.isbusy = False\n",
        "\n",
        "    while queue:\n",
        "        for server in servers:\n",
        "            if server.customer is None:\n",
        "                server.customer = queue.pop(0)\n",
        "                server.customer.status = f\"({len(queue)}, {''.join(str(1 if servers[0].isbusy == True else 0))})\"\n",
        "                server.isbusy = True\n",
        "                server.customer.begin = clock\n",
        "                server.customer.end = clock + server.customer.service_time\n",
        "                if (clock + server.customer.service_time) > most_time:\n",
        "                  most_time = server.customer.service_time + clock\n",
        "                server.busy_time += server.customer.service_time\n",
        "                break\n",
        "        else:\n",
        "            break\n",
        "\n",
        "    if not queue and i == len(customers):\n",
        "        break\n",
        "    clock += 1\n",
        "\n",
        "total_time = most_time"
      ],
      "metadata": {
        "id": "G3GZo-6qyctx"
      },
      "execution_count": 527,
      "outputs": []
    },
    {
      "cell_type": "markdown",
      "source": [
        "### part 1"
      ],
      "metadata": {
        "id": "yZxrxnpA5UeK"
      }
    },
    {
      "cell_type": "code",
      "source": [
        "for customer in customers:\n",
        "  print(\n",
        "        f\"number: {customer.number }, \"\n",
        "        f\"last arrival time: {customer.last_arrival_time }, \"\n",
        "        f\"arrival time: {customer.arrival_time }, \"\n",
        "        f\"service time: {customer.service_time }, \"\n",
        "        f\"status: {customer.status}, \"\n",
        "        f\"start time: {customer.begin}, \"\n",
        "        f\"finish time: {customer.end} \"\n",
        "  )"
      ],
      "metadata": {
        "colab": {
          "base_uri": "https://localhost:8080/"
        },
        "id": "NJX6wConlxQ-",
        "outputId": "8d5fbcc5-0970-4b59-c242-51143714eec9"
      },
      "execution_count": 528,
      "outputs": [
        {
          "output_type": "stream",
          "name": "stdout",
          "text": [
            "number: 1, last arrival time: 0, arrival time: 0, service time: 10.12, status: (0, 0), start time: 0, finish time: 10.12 \n",
            "number: 2, last arrival time: 3, arrival time: 3, service time: 14.73, status: (0, 1), start time: 3, finish time: 17.73 \n",
            "number: 3, last arrival time: 0, arrival time: 3, service time: 9.45, status: (7, 0), start time: 11, finish time: 20.45 \n",
            "number: 4, last arrival time: 1, arrival time: 4, service time: 0.001, status: (8, 1), start time: 18, finish time: 18.001 \n",
            "number: 5, last arrival time: 0, arrival time: 4, service time: 0.001, status: (7, 1), start time: 19, finish time: 19.001 \n",
            "number: 6, last arrival time: 0, arrival time: 4, service time: 0.001, status: (6, 1), start time: 20, finish time: 20.001 \n",
            "number: 7, last arrival time: 0, arrival time: 4, service time: 12.22, status: (5, 0), start time: 21, finish time: 33.22 \n",
            "number: 8, last arrival time: 0, arrival time: 4, service time: 0.001, status: (4, 1), start time: 21, finish time: 21.001 \n",
            "number: 9, last arrival time: 3, arrival time: 7, service time: 17.72, status: (3, 1), start time: 22, finish time: 39.72 \n",
            "number: 10, last arrival time: 2, arrival time: 9, service time: 4.13, status: (2, 0), start time: 34, finish time: 38.13 \n",
            "number: 11, last arrival time: 0, arrival time: 9, service time: 18.2, status: (1, 0), start time: 39, finish time: 57.2 \n",
            "number: 12, last arrival time: 1, arrival time: 10, service time: 16.46, status: (0, 1), start time: 40, finish time: 56.46 \n"
          ]
        }
      ]
    },
    {
      "cell_type": "markdown",
      "source": [
        "### part2"
      ],
      "metadata": {
        "id": "Iy5xEhmq5H0E"
      }
    },
    {
      "cell_type": "code",
      "source": [
        "for server in servers:\n",
        "    print(server.busy_time, total_time)\n",
        "    print(f\"Server {server.number} busy: {server.busy_time/total_time*100}%\")"
      ],
      "metadata": {
        "id": "vYWX2dbJtWHh",
        "colab": {
          "base_uri": "https://localhost:8080/"
        },
        "outputId": "720a10e3-6fd3-4547-e90e-0612a0a3a28f"
      },
      "execution_count": 529,
      "outputs": [
        {
          "output_type": "stream",
          "name": "stdout",
          "text": [
            "54.120000000000005 57.2\n",
            "Server 1 busy: 94.61538461538463%\n",
            "48.913999999999994 57.2\n",
            "Server 2 busy: 85.513986013986%\n"
          ]
        }
      ]
    }
  ]
}