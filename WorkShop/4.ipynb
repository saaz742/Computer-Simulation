{
  "cells": [
    {
      "cell_type": "markdown",
      "metadata": {
        "id": "vNhxoM8AYVPs"
      },
      "source": [
        "Sara Azarnoush 98170668\n",
        "\n",
        "Computer Simulation\n",
        "\n",
        "Dr safaei\n",
        "\n",
        "Task 4\n",
        "\n",
        "Winter 2023\n"
      ]
    },
    {
      "cell_type": "code",
      "execution_count": 98,
      "metadata": {
        "id": "0VUcIS_-YVP1"
      },
      "outputs": [],
      "source": [
        "import numpy as np"
      ]
    },
    {
      "cell_type": "markdown",
      "source": [
        "get n, k and n row of numbers for matrix az input"
      ],
      "metadata": {
        "id": "FiNeABx0YZQB"
      }
    },
    {
      "cell_type": "code",
      "source": [
        "# matrix = []\n",
        "# n = int(input()) #number of matrix rows\n",
        "# k = int(input()) #number of iterate\n",
        "# for i in range(n): #matrix\n",
        "#     matrix.append(list(map(float, input().split())))\n",
        "\n",
        "k = 10000\n",
        "matrix = np.array([[0.3, 0.2, 0.5],\n",
        "          [0.4, 0.3, 0.3],\n",
        "          [0.3, 0.4, 0.3]])\n",
        "\n"
      ],
      "metadata": {
        "id": "1-KvldQ6YbNs"
      },
      "execution_count": 99,
      "outputs": []
    },
    {
      "cell_type": "code",
      "source": [
        "def cal_prob(k):\n",
        "    sec = matrix[0]\n",
        "    if k == 1:\n",
        "      return sec\n",
        "    for i in range(k-1):\n",
        "        sec = np.matmul(sec, matrix)\n",
        "    return sec\n",
        "\n",
        "    "
      ],
      "metadata": {
        "id": "GWOyCqufYdah"
      },
      "execution_count": 100,
      "outputs": []
    },
    {
      "cell_type": "code",
      "source": [
        "print(cal_prob(k))"
      ],
      "metadata": {
        "colab": {
          "base_uri": "https://localhost:8080/"
        },
        "id": "KPwS-DLMYh9f",
        "outputId": "fe532843-c638-46c0-8d54-7bdff321b6b3"
      },
      "execution_count": 101,
      "outputs": [
        {
          "output_type": "stream",
          "name": "stdout",
          "text": [
            "[0.33035714 0.30357143 0.36607143]\n"
          ]
        }
      ]
    }
  ],
  "metadata": {
    "language_info": {
      "name": "python"
    },
    "orig_nbformat": 4,
    "colab": {
      "provenance": []
    },
    "kernelspec": {
      "name": "python3",
      "display_name": "Python 3"
    },
    "gpuClass": "standard"
  },
  "nbformat": 4,
  "nbformat_minor": 0
}